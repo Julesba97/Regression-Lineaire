{
 "cells": [
  {
   "cell_type": "code",
   "execution_count": 1,
   "metadata": {},
   "outputs": [],
   "source": [
    "\"\"\"\"\n",
    "Ceci est le chargement des modules necessaires\n",
    "\"\"\"\n",
    "import numpy as np\n",
    "import pandas as pd\n",
    "import seaborn as sns\n",
    "import matplotlib.pyplot as plt\n",
    "from scipy import stats\n",
    "import pylab"
   ]
  },
  {
   "cell_type": "code",
   "execution_count": 2,
   "metadata": {},
   "outputs": [],
   "source": [
    "def read_dataset(fichier):\n",
    "    \"\"\"\n",
    "    La focntion reçoit un fichier text et retourne un dataset\n",
    "    de type pandas.\n",
    "    \"\"\"\n",
    "    with open(fichier, encoding=\"utf-8\") as fic_op:\n",
    "        read_line = fic_op.readlines()\n",
    "        nobs = len(read_line)\n",
    "        ncols = len(read_line[1].split())\n",
    "        dic = {}\n",
    "        for j in range(ncols):\n",
    "            col = []\n",
    "            for i in range(nobs):\n",
    "                obs = read_line[i].split()\n",
    "                col.append(obs[j])\n",
    "            if j != ncols-1:\n",
    "                dic[col[0]] = [float(x) for x in col[1:]]\n",
    "            else:\n",
    "                dic[col[0]] = col[1:]\n",
    "    return pd.DataFrame(dic)\n",
    "\n",
    "\n",
    "def cholesky(matrix):\n",
    "    \"\"\"\n",
    "    Cette fonction prenant en entrée une matrice symetrique définie positive\n",
    "    retourne une matrice triangulaire inférieur. C'est la methode de Cholesky\n",
    "    \"\"\"\n",
    "    matrix = np.array(matrix)\n",
    "    chol = np.zeros(matrix.shape)\n",
    "    for j in range(matrix.shape[0]):\n",
    "        for i in range(j, matrix.shape[0]):\n",
    "            if i == j:\n",
    "                chol[i, j] = np.sqrt(matrix[i, j] - np.sum(chol[i, :j]**2))\n",
    "            else:\n",
    "                chol[i, j] = (matrix[i, j] - np.sum(chol[i, :j]*chol[j, :j]))/chol[j, j]\n",
    "    return chol\n",
    "\n",
    "\n",
    "def solve_line_sys(chol, tary):\n",
    "    \"\"\"\n",
    "    La fonction prend en entrée une matrice triangulaire inférieur et une matrice ligne.\n",
    "    Le principe est de faire une resolution d'un système linéaire A*B=targy et le but\n",
    "    est de trouver les valeurs de B.\n",
    "    \"\"\"\n",
    "    chol = np.array(chol)\n",
    "    tary = np.array(tary)\n",
    "    tmatrix = chol.transpose()\n",
    "    nline = chol.shape[0]\n",
    "    soly = np.zeros(nline)\n",
    "    solx = np.zeros(nline)\n",
    "    for i in range(nline):\n",
    "        sumj = 0\n",
    "        for j in range(i):\n",
    "            sumj += chol[i, j]*soly[j]\n",
    "        soly[i] = (tary[i]-sumj)/chol[i, i]\n",
    "    for i in sorted(range(nline), reverse=True):\n",
    "        sumj = 0\n",
    "        for j in range(i+1, nline):\n",
    "            sumj += tmatrix[i, j]*solx[j]\n",
    "        solx[i] = (soly[i]-sumj)/tmatrix[i, i]\n",
    "    return solx.reshape((solx.shape[0], 1))\n",
    "\n",
    "\n",
    "def matrix_dot(matrixa, matrixb):\n",
    "    \"\"\"\n",
    "    La fonction prend en entrée deux matrice et de faire la multiplication\n",
    "    \"\"\"\n",
    "    matrixa = np.array(matrixa)\n",
    "    matrixb = np.array(matrixb)\n",
    "    matrixc = np.zeros((matrixa.shape[0], matrixb.shape[1]))\n",
    "    if matrixa.shape[1] == matrixb.shape[0]:\n",
    "        for i in range(matrixa.shape[0]):\n",
    "            for j in range(matrixb.shape[1]):\n",
    "                for mrg in range(matrixa.shape[1]):\n",
    "                    matrixc[i, j] = matrixc[i, j] + matrixa[i, mrg] * matrixb[mrg, j]\n",
    "    return matrixc\n",
    "\n",
    "def matrix_transp(matrix):\n",
    "    \"\"\"\n",
    "    La fonction prend en entrée une matrice et de retourner sa transposée.\n",
    "    \"\"\"\n",
    "    matrix = np.array(matrix)\n",
    "    matrixa = np.zeros((matrix.shape[1], matrix.shape[0]))\n",
    "    for i in range(matrixa.shape[0]):\n",
    "        for j in range(matrixa.shape[1]):\n",
    "            matrixa[i, j] = matrix[j, i]\n",
    "    return matrixa\n",
    "\n",
    "\n",
    "\n",
    "class OrdinaryLeastSquares:\n",
    "    \"\"\" la classe permet d'estimer les coefficients du modele\n",
    "    en utilisant la methode des moindres carres\"\"\"\n",
    "    def __init__(self, intercept=True):\n",
    "        self.intercept = intercept\n",
    "        self.coeff = {}\n",
    "        self.beta = np.array([])\n",
    "\n",
    "\n",
    "\n",
    "    def transp(self, predictor):\n",
    "        \"\"\" la focntion permet juste de multiplier la transpose de la matrice avec\n",
    "         la matrice elle meme\"\"\"\n",
    "        predictor1 = predictor.copy()\n",
    "        if self.intercept is True:\n",
    "            predictor1.insert(0, 'Const', list(np.ones(predictor.shape[0])))\n",
    "            txx = matrix_dot(matrix_transp(np.array(predictor1)), np.array(predictor1))\n",
    "        else :\n",
    "            txx = matrix_dot(matrix_transp(np.array(predictor1)), np.array(predictor1))\n",
    "        return txx\n",
    "\n",
    "\n",
    "    def fit(self, predictor, target):\n",
    "        \"\"\" la fonction permet d'estimer les coefficients\"\"\"\n",
    "        predictor1 = predictor.copy()\n",
    "        target = np.array(target).reshape((target.shape[0],1))\n",
    "        if self.intercept is True:\n",
    "            predictor1.insert(0, 'Const', list(np.ones(predictor.shape[0])))\n",
    "            chol = cholesky(self.transp(predictor))\n",
    "            txy = matrix_dot(matrix_transp(predictor1), target)\n",
    "            self.beta = solve_line_sys(chol, txy)\n",
    "        else:\n",
    "            chol = cholesky(self.transp(predictor1))\n",
    "            txy = matrix_dot(matrix_transp(predictor1), target)\n",
    "            self.beta = solve_line_sys(chol, txy)\n",
    "        for i in range(self.beta.shape[0]):\n",
    "            self.coeff[predictor1.columns[i]] = self.beta[i, 0]\n",
    "\n",
    "\n",
    "    def predict(self, predictor):\n",
    "        \"\"\"La fonction permet de donner la valeur du target en prenant\n",
    "        comme entre les predicteurs \"\"\"\n",
    "        predictor1 = predictor.copy()\n",
    "        if self.intercept is True:\n",
    "            predictor1.insert(0, 'Const', list(np.ones(predictor.shape[0])))\n",
    "            predic = matrix_dot(predictor1, self.beta)\n",
    "        else:\n",
    "            predic = matrix_dot(predictor1, self.beta)\n",
    "        return predic\n",
    "\n",
    "\n",
    "    def get_coeffs(self):\n",
    "        \"\"\"\n",
    "        La fonction permet de  retourner les coefficients estimees\n",
    "        avec leur coefficients associees\n",
    "        \"\"\"\n",
    "        return self.coeff\n",
    "\n",
    "class LinearModel(OrdinaryLeastSquares):\n",
    "    \"\"\" C'est la classe de la regression Lineaire \"\"\"\n",
    "    def __init__(self, intercept):\n",
    "        self.residuals = float()\n",
    "        self.rsquare = float()\n",
    "        self.rank = float()\n",
    "        self.name = 'Linear Regression Model'\n",
    "        super().__init__(intercept)\n",
    "\n",
    "\n",
    "    def summary(self, predictor, target):\n",
    "        \"\"\"\n",
    "        Cette fonction retourne un resumé des resultats de la regression lineaire\n",
    "        \"\"\"\n",
    "        predictor1 = predictor.copy()\n",
    "        target = np.array(target).reshape((target.shape[0], 1))\n",
    "        targbar = np.mean(target)*np.ones((target.shape[0], 1))\n",
    "        if self.intercept is True:\n",
    "            matix = super().transp(predictor)\n",
    "            self.residuals = target - super().predict(predictor)\n",
    "            sct = sum((target-targbar)**2)[0]\n",
    "            self.rank = np.linalg.matrix_rank(matix)\n",
    "        else:\n",
    "            self.residuals = target - super().predict(predictor)\n",
    "            sct = sum(target**2)[0]\n",
    "            matix = super().transp(predictor)\n",
    "        inver = np.linalg.inv(matix)\n",
    "        self.rank = np.linalg.matrix_rank(matix)\n",
    "        scr = sum(self.residuals**2)[0]\n",
    "        self.rsquare = (1 - scr/sct)\n",
    "        nobs = np.array(predictor).shape[0]\n",
    "        sigma = scr/(nobs-self.rank)\n",
    "        std = []\n",
    "        tstud = []\n",
    "        pval = []\n",
    "        borinf = []\n",
    "        borsup = []\n",
    "        for i in range(self.rank):\n",
    "            std.append(np.sqrt(sigma*inver[i, i]))\n",
    "            tstud.append(self.beta[i, 0]/std[i])\n",
    "            pval.append(stats.t.sf(np.abs(tstud[i]), nobs - self.rank)*2)\n",
    "            borinf.append(self.beta[i, 0] - stats.t.ppf(0.975, nobs - self.rank) * std[i])\n",
    "            borsup.append(self.beta[i, 0] + stats.t.ppf(0.975, nobs - self.rank) * std[i])\n",
    "        dic = {}\n",
    "        dic[\"Estimate\"] = list(self.beta.reshape(self.rank,))\n",
    "        dic[\"Std err\"] = std\n",
    "        dic[\"t\"] = tstud\n",
    "        dic[\"P>|t|\"] = pval\n",
    "        dic[\"BorneInf\"] = borinf\n",
    "        dic[\"BorneSup\"] = borsup\n",
    "        if self.intercept is True:\n",
    "            predictor1.insert(0, 'Const', list(np.ones(predictor.shape[0])))\n",
    "            fsta = ((nobs-self.rank)/(self.rank - 1))*(self.rsquare/(1 - self.rsquare))\n",
    "            pvalf = 1 - stats.f.cdf(fsta, self.rank-1, nobs-self.rank)\n",
    "            raj = 1 - ((nobs-1)/(nobs-self.rank))*(1 - self.rsquare)\n",
    "        else:\n",
    "            raj = 1 - (nobs/(nobs-self.rank))*(1-self.rsquare)\n",
    "        data = pd.DataFrame(dic, index=predictor1.columns)\n",
    "        print(\" \"*37, self.name)\n",
    "        print(\"*\"*90)\n",
    "        print(\"Residuals: \")\n",
    "        dics= {}\n",
    "        sre = lambda i: np.round(np.quantile(self.residuals,\n",
    "                                             np.array([0, 0.25, 0.5, 0.75, 1]))[i], 2)\n",
    "        dics[\"Min\"] = sre(0)\n",
    "        dics[\" \"*8] = \" \"\n",
    "        dics[\"1Q\"] = sre(1)\n",
    "        dics[\" \"*7] = \" \"\n",
    "        dics[\"Median\"]  = sre(2)\n",
    "        dics[\" \"*6] = \" \"\n",
    "        dics[\"3Q\"] = sre(3)\n",
    "        dics[\" \"*5] = \" \"\n",
    "        dics[\"Max\"] = sre(4)\n",
    "        print(pd.DataFrame([dics]).set_index(\"Min\"))\n",
    "        print(\"*\"*90)\n",
    "        print(\"Coefficients: \")\n",
    "        print(data)\n",
    "        print(\"*\"*90)\n",
    "        print(\"Residual Std err:\", f\"{round(np.sqrt(sigma), 4)}\",\n",
    "              \" avec \", f'{nobs-self.rank}', \" degré de liberté\")\n",
    "        print(\"R_square: \", f'{round(self.rsquare, 4)}',\n",
    "              \" \"*10, 'Adj. R_square :', f\"{round(raj, 4)}\")\n",
    "        if self.intercept is True:\n",
    "            print(\"F-statistic :\", f'{round(fsta,4)}', \" avec\", f\"{self.rank-1}\",\n",
    "                  \"et\", f\"{nobs-self.rank}\", \"DF\", \"p_valeur:\", f'{pvalf}')\n",
    "        print(\"*\"*90)\n",
    "\n",
    "\n",
    "    def determination_coefficient(self):\n",
    "        \"\"\"\n",
    "        cette fonction permet de retourner le coefficient\n",
    "        de determination du modele\n",
    "        \"\"\"\n",
    "        return self.rsquare\n",
    "\n",
    "\n",
    "    def graphe_residus(self):\n",
    "        \"\"\"\n",
    "        Cette fonction permet d'afficher le graphe des résidus et à\n",
    "        coté  le graphe qqpot qui permet d'observer l'adéquation des\n",
    "        residus avec la normale.\n",
    "        \"\"\"\n",
    "        plt.figure(figsize=(10, 5))\n",
    "        plt.subplot(1, 2, 1)\n",
    "        sns.distplot(self.residuals, color='orange')\n",
    "        plt.title('Distribution des résidus')\n",
    "        plt.subplot(1, 2, 2)\n",
    "        stats.probplot(self.residuals[:, 0], dist=\"norm\", plot=pylab)\n",
    "        pylab.show()\n",
    "        plt.show()\n",
    "\n",
    "\n",
    "class Ridge(LinearModel):\n",
    "    \"\"\"\n",
    "    C'est la classe du modele Ridge.\n",
    "    \"\"\"\n",
    "    def __init__(self, intercept, lambada):\n",
    "        super().__init__(intercept)\n",
    "        self.lambada = lambada\n",
    "        self.name = \"Ridge Model\"\n",
    "\n",
    "\n",
    "    def transp(self, predictor):\n",
    "        \"\"\"\n",
    "        Cette fonction permet de mettre en jour la classe OLS en presence\n",
    "        de la valeur lambda\n",
    "        \"\"\"\n",
    "        return super().transp(predictor) + self.lambada * np.eye(super().transp(predictor).shape[0])\n"
   ]
  },
  {
   "cell_type": "code",
   "execution_count": 3,
   "metadata": {},
   "outputs": [],
   "source": [
    "def transform_sampling(qantile, lambada, nobs):\n",
    "    \"\"\"\n",
    "    La fonction permet de simuler des variables aleatoires avec\n",
    "    la methode d'inverse de la fonction repartition\n",
    "    \"\"\"\n",
    "    varx = np.zeros(nobs)\n",
    "    for i in range(nobs):\n",
    "        varx[i] = qantile(np.random.uniform(0, 1, 1), lambada)\n",
    "    return varx\n",
    "\n",
    "\n",
    "def centrales_limites(sets, size_n, nsim, mux, sigma):\n",
    "    \"\"\"\n",
    "    La fonction retourne des variables aleatoires simulées avec\n",
    "    la methode du central limite\n",
    "    \"\"\"\n",
    "    varz = np.zeros(nsim)\n",
    "    for i in range(nsim):\n",
    "        varx = np.random.choice(sets, size=size_n, replace=False)\n",
    "        varz[i] = np.sqrt(size_n)*(np.mean(varx) - mux)/sigma\n",
    "    return varz\n"
   ]
  },
  {
   "cell_type": "markdown",
   "metadata": {},
   "source": [
    "### Jeux de données"
   ]
  },
  {
   "cell_type": "code",
   "execution_count": 5,
   "metadata": {},
   "outputs": [
    {
     "name": "stderr",
     "output_type": "stream",
     "text": [
      "C:\\Users\\Ba Souleymane\\Anaconda3\\lib\\site-packages\\ipykernel_launcher.py:3: SettingWithCopyWarning: \n",
      "A value is trying to be set on a copy of a slice from a DataFrame.\n",
      "Try using .loc[row_indexer,col_indexer] = value instead\n",
      "\n",
      "See the caveats in the documentation: https://pandas.pydata.org/pandas-docs/stable/user_guide/indexing.html#returning-a-view-versus-a-copy\n",
      "  This is separate from the ipykernel package so we can avoid doing imports until\n"
     ]
    }
   ],
   "source": [
    "dataset = read_dataset('fuel2001.txt')\n",
    "X = dataset[[\"Income\", \"Miles\", \"Tax\", \"MPC\"]]\n",
    "X[\"Dlic\"] = 1000 * dataset.Drivers / dataset.Pop\n",
    "y = 1000 * dataset.FuelC / dataset.Pop"
   ]
  },
  {
   "cell_type": "markdown",
   "metadata": {},
   "source": [
    "### Affichage de LinearModel"
   ]
  },
  {
   "cell_type": "code",
   "execution_count": 6,
   "metadata": {},
   "outputs": [],
   "source": [
    "mod = LinearModel(intercept=True)\n",
    "mod.fit(X, y)"
   ]
  },
  {
   "cell_type": "code",
   "execution_count": 7,
   "metadata": {},
   "outputs": [
    {
     "name": "stdout",
     "output_type": "stream",
     "text": [
      "                                      Linear Regression Model\n",
      "******************************************************************************************\n",
      "Residuals: \n",
      "                     1Q          Median            3Q          Max\n",
      "Min                                                               \n",
      "-102.99          -31.59            2.47         25.19        97.05\n",
      "******************************************************************************************\n",
      "Coefficients: \n",
      "          Estimate     Std err         t         P>|t|    BorneInf    BorneSup\n",
      "Const   103.804295  120.991159  0.857949  3.954671e-01 -139.884407  347.492997\n",
      "Income   -0.000073    0.001814 -0.040490  9.678818e-01   -0.003728    0.003581\n",
      "Miles     0.000345    0.000130  2.662172  1.072880e-02    0.000084    0.000606\n",
      "Tax      -1.943743    1.486963 -1.307190  1.977883e-01   -4.938640    1.051154\n",
      "MPC       0.031563    0.004403  7.168546  5.734565e-09    0.022695    0.040431\n",
      "Dlic      0.214783    0.104871  2.048069  4.641499e-02    0.003562    0.426005\n",
      "******************************************************************************************\n",
      "Residual Std err: 46.4008  avec  45  degré de liberté\n",
      "R_square:  0.7551            Adj. R_square : 0.7279\n",
      "F-statistic : 27.7569  avec 5 et 45 DF p_valeur: 1.0378364834195963e-12\n",
      "******************************************************************************************\n"
     ]
    }
   ],
   "source": [
    "mod.summary(X, y)"
   ]
  },
  {
   "cell_type": "code",
   "execution_count": 11,
   "metadata": {},
   "outputs": [
    {
     "data": {
      "text/plain": [
       "{'Const': 103.80429466814711,\n",
       " 'Income': -7.346554907419174e-05,\n",
       " 'Miles': 0.0003450499285718293,\n",
       " 'Tax': -1.943743344988325,\n",
       " 'MPC': 0.0315629726721714,\n",
       " 'Dlic': 0.21478347845911272}"
      ]
     },
     "execution_count": 11,
     "metadata": {},
     "output_type": "execute_result"
    }
   ],
   "source": [
    "mod.get_coeffs()"
   ]
  },
  {
   "cell_type": "code",
   "execution_count": 13,
   "metadata": {},
   "outputs": [
    {
     "data": {
      "text/plain": [
       "0.7551477356878742"
      ]
     },
     "execution_count": 13,
     "metadata": {},
     "output_type": "execute_result"
    }
   ],
   "source": [
    "mod.determination_coefficient()"
   ]
  },
  {
   "cell_type": "code",
   "execution_count": 16,
   "metadata": {},
   "outputs": [
    {
     "data": {
      "image/png": "[encoded data removed]",
      "text/plain": [
       "<Figure size 720x360 with 2 Axes>"
      ]
     },
     "metadata": {
      "needs_background": "light"
     },
     "output_type": "display_data"
    }
   ],
   "source": [
    "mod.graphe_residus()"
   ]
  },
  {
   "cell_type": "markdown",
   "metadata": {},
   "source": [
    "### Affichage de Ridge"
   ]
  },
  {
   "cell_type": "code",
   "execution_count": 19,
   "metadata": {},
   "outputs": [],
   "source": [
    "mod2 = Ridge(intercept=True, lambada=50)\n",
    "mod2.fit(X, y)"
   ]
  },
  {
   "cell_type": "code",
   "execution_count": 22,
   "metadata": {},
   "outputs": [
    {
     "name": "stdout",
     "output_type": "stream",
     "text": [
      "                                      Ridge Model\n",
      "******************************************************************************************\n",
      "Residuals: \n",
      "                     1Q          Median            3Q         Max\n",
      "Min                                                              \n",
      "-114.63          -29.08           -0.23         28.06        91.7\n",
      "******************************************************************************************\n",
      "Coefficients: \n",
      "        Estimate     Std err         t         P>|t|    BorneInf    BorneSup\n",
      "Const   0.297841  121.973604  0.002442  9.980625e-01 -245.369607  245.965289\n",
      "Income  0.000888    0.001829  0.485303  6.298159e-01   -0.002796    0.004572\n",
      "Miles   0.000381    0.000131  2.915362  5.520451e-03    0.000118    0.000644\n",
      "Tax    -1.374372    1.499037 -0.916837  3.641159e-01   -4.393588    1.644843\n",
      "MPC     0.032797    0.004439  7.388805  2.711031e-09    0.023857    0.041737\n",
      "Dlic    0.268749    0.105723  2.542014  1.453442e-02    0.055812    0.481685\n",
      "******************************************************************************************\n",
      "Residual Std err: 46.7776  avec  45  degré de liberté\n",
      "R_square:  0.7512            Adj. R_square : 0.7235\n",
      "F-statistic : 27.1671  avec 5 et 45 DF p_valeur: 1.4822587601770465e-12\n",
      "******************************************************************************************\n"
     ]
    }
   ],
   "source": [
    "mod2.summary(X,y)"
   ]
  },
  {
   "cell_type": "code",
   "execution_count": 23,
   "metadata": {},
   "outputs": [
    {
     "data": {
      "text/plain": [
       "{'Const': 0.29784079458872703,\n",
       " 'Income': 0.0008876955714701685,\n",
       " 'Miles': 0.0003809346994972142,\n",
       " 'Tax': -1.3743722135869345,\n",
       " 'MPC': 0.03279693423666394,\n",
       " 'Dlic': 0.2687487074702645}"
      ]
     },
     "execution_count": 23,
     "metadata": {},
     "output_type": "execute_result"
    }
   ],
   "source": [
    "mod2.get_coeffs()"
   ]
  },
  {
   "cell_type": "code",
   "execution_count": 25,
   "metadata": {},
   "outputs": [
    {
     "data": {
      "text/plain": [
       "0.7511552032105722"
      ]
     },
     "execution_count": 25,
     "metadata": {},
     "output_type": "execute_result"
    }
   ],
   "source": [
    "mod2.determination_coefficient()"
   ]
  },
  {
   "cell_type": "code",
   "execution_count": 27,
   "metadata": {},
   "outputs": [
    {
     "data": {
      "image/png": "[encoded data removed]",
      "text/plain": [
       "<Figure size 720x360 with 2 Axes>"
      ]
     },
     "metadata": {
      "needs_background": "light"
     },
     "output_type": "display_data"
    }
   ],
   "source": [
    "mod.graphe_residus()"
   ]
  },
  {
   "cell_type": "markdown",
   "metadata": {},
   "source": [
    "## Simulation "
   ]
  },
  {
   "cell_type": "markdown",
   "metadata": {},
   "source": [
    "#### Simulation des variables de la loi exponentielle"
   ]
  },
  {
   "cell_type": "code",
   "execution_count": 28,
   "metadata": {},
   "outputs": [],
   "source": [
    "qantiexp = lambda u, lambada: -np.log(1-u)/lambada\n",
    "sample1 = transform_sampling(qantiexp, 1, 10000)\n",
    "abscisse1 = np.linspace(0, 10)"
   ]
  },
  {
   "cell_type": "code",
   "execution_count": 30,
   "metadata": {},
   "outputs": [
    {
     "data": {
      "image/png": "[encoded data removed]",
      "text/plain": [
       "<Figure size 576x288 with 1 Axes>"
      ]
     },
     "metadata": {
      "needs_background": "light"
     },
     "output_type": "display_data"
    }
   ],
   "source": [
    "plt.figure(figsize=(8, 4))\n",
    "plt.hist(sample1, bins=100, color=\"yellow\", density=True)\n",
    "plt.plot(abscisse1, stats.expon.pdf(abscisse1, loc=0, scale=1), color=\"black\", lw=2)\n",
    "plt.title(\"Distribution de la loi exponentielle\")\n",
    "plt.xlabel(\"variables\")\n",
    "plt.ylabel(\"counts\")\n",
    "plt.show()"
   ]
  },
  {
   "cell_type": "markdown",
   "metadata": {},
   "source": [
    "#### Simulation des variables aléatoires de la loi normale standard avec la méthode centrale limite"
   ]
  },
  {
   "cell_type": "code",
   "execution_count": 32,
   "metadata": {},
   "outputs": [],
   "source": [
    "tcl_z2 = centrales_limites(np.random.uniform(0, 1, 100000),\n",
    "                           size_n=100, nsim=2000, mux=0.5, sigma=np.sqrt(1/12))\n",
    "tcl_z1 = centrales_limites(np.random.poisson(5, 100000),\n",
    "                           size_n=100, nsim=2000, mux =5, sigma=np.sqrt(5))\n",
    "abscisse = np.linspace(-10, 10)"
   ]
  },
  {
   "cell_type": "code",
   "execution_count": 33,
   "metadata": {},
   "outputs": [
    {
     "data": {
      "image/png": "[encoded data removed]",
      "text/plain": [
       "<Figure size 1152x288 with 2 Axes>"
      ]
     },
     "metadata": {
      "needs_background": "light"
     },
     "output_type": "display_data"
    }
   ],
   "source": [
    "plt.figure(figsize=(16, 4))\n",
    "plt.subplot(1, 2, 1)\n",
    "plt.hist(tcl_z2, bins=50, color=\"yellow\", density=True)\n",
    "plt.plot(abscisse, stats.norm.pdf(abscisse, loc=0, scale=1), color=\"black\", lw=2)\n",
    "plt.title(\"TCL uniforme(0,1)\")\n",
    "plt.xlabel(\"variables\")\n",
    "plt.ylabel(\"counts\")\n",
    "plt.subplot(1, 2, 2)\n",
    "plt.hist(tcl_z1, bins=50, color=\"yellow\", density=True)\n",
    "plt.plot(abscisse, stats.norm.pdf(abscisse, loc=0, scale=1), color=\"black\", lw=2)\n",
    "plt.title(\"TCL poissons(5)\")\n",
    "plt.xlabel(\"variables\")\n",
    "plt.ylabel(\"counts\")\n",
    "plt.show()\n"
   ]
  }
 ],
 "metadata": {
  "kernelspec": {
   "display_name": "Python 3",
   "language": "python",
   "name": "python3"
  },
  "language_info": {
   "codemirror_mode": {
    "name": "ipython",
    "version": 3
   },
   "file_extension": ".py",
   "mimetype": "text/x-python",
   "name": "python",
   "nbconvert_exporter": "python",
   "pygments_lexer": "ipython3",
   "version": "3.7.3"
  }
 },
 "nbformat": 4,
 "nbformat_minor": 2
}
